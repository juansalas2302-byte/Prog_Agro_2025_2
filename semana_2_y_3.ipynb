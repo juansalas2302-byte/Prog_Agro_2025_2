{
  "nbformat": 4,
  "nbformat_minor": 0,
  "metadata": {
    "colab": {
      "provenance": [],
      "authorship_tag": "ABX9TyO+oUXhSx8YImYfyLVUD1Lu",
      "include_colab_link": true
    },
    "kernelspec": {
      "name": "python3",
      "display_name": "Python 3"
    },
    "language_info": {
      "name": "python"
    }
  },
  "cells": [
    {
      "cell_type": "markdown",
      "metadata": {
        "id": "view-in-github",
        "colab_type": "text"
      },
      "source": [
        "<a href=\"https://colab.research.google.com/github/juansalas2302-byte/Prog_Agro_2025_2/blob/main/semana_2_y_3.ipynb\" target=\"_parent\"><img src=\"https://colab.research.google.com/assets/colab-badge.svg\" alt=\"Open In Colab\"/></a>"
      ]
    },
    {
      "cell_type": "markdown",
      "source": [
        "# 1. Clasificador de pH del Suelo\n",
        "El pH del suelo es un factor crítico para la absorción de nutrientes por parte de las plantas. Desarrollarás un programa que recibe un valor de pH e informa al\n",
        "agricultor si el suelo es ácido, neutro o alcalino, ofreciendo una recomendación general.\n"
      ],
      "metadata": {
        "id": "yxxcHuodrpri"
      }
    },
    {
      "cell_type": "code",
      "execution_count": 2,
      "metadata": {
        "colab": {
          "base_uri": "https://localhost:8080/"
        },
        "id": "gnjPpkggqkIK",
        "outputId": "8435a35d-421e-4595-add5-7b4a710490bc"
      },
      "outputs": [
        {
          "output_type": "stream",
          "name": "stdout",
          "text": [
            "Este programa clasifica el pH del suelo.\n",
            "Ingrese el valor de pH medido: 7.5\n",
            "El suelo es alcalino.\n",
            "Recomendamos el uso de sulfato.\n"
          ]
        }
      ],
      "source": [
        "# Explicar al usuario que el programa clasifica el pH del suelo.\n",
        "print(\"Este programa clasifica el pH del suelo.\")\n",
        "\n",
        "# Pedir al usuario que ingrese el valor de pH medido (puede ser decimal).\n",
        "ph = float(input(\"Ingrese el valor de pH medido: \"))\n",
        "\n",
        "# Utilizar una estructura 'if' para clasificar el pH\n",
        "if ph < 7.0:\n",
        "  print(\"El suelo es ácido.\")\n",
        "  # Dentro del 'if', mostrar un mensaje indicando que el suelo es \"Ácido\" y recomendar el uso de cal agrícola.\n",
        "  print(\"Recomendamos el uso de cal agrícola.\")\n",
        "elif ph == 7.0:\n",
        "  print(\"El suelo es neutro.\")\n",
        "else: # ph > 7.0\n",
        "  print(\"El suelo es alcalino.\")\n",
        "  print(\"Recomendamos el uso de sulfato.\")"
      ]
    },
    {
      "cell_type": "markdown",
      "metadata": {
        "id": "8760407f"
      },
      "source": [
        "Aquí tienes la explicación línea por línea del código para clasificar el pH del suelo:"
      ]
    },
    {
      "cell_type": "code",
      "metadata": {
        "id": "13e96ccb"
      },
      "source": [
        "# Pedir al usuario que ingrese el valor de pH medido (puede ser decimal).\n",
        "ph = float(input(\"Ingrese el valor de pH medido: \"))"
      ],
      "execution_count": null,
      "outputs": []
    },
    {
      "cell_type": "code",
      "metadata": {
        "id": "4288dfa1"
      },
      "source": [
        "# Utilizar una estructura 'if' para clasificar el pH\n",
        "if ph < 7.0:\n",
        "  print(\"El suelo es ácido.\")\n",
        "  # Dentro del 'if', mostrar un mensaje indicando que el suelo es \"Ácido\" y recomendar el uso de cal agrícola.\n",
        "  print(\"Recomendamos el uso de cal agrícola.\")"
      ],
      "execution_count": null,
      "outputs": []
    },
    {
      "cell_type": "code",
      "metadata": {
        "id": "f0b54099"
      },
      "source": [
        "elif ph == 7.0:\n",
        "  print(\"El suelo es neutro.\")"
      ],
      "execution_count": null,
      "outputs": []
    },
    {
      "cell_type": "code",
      "metadata": {
        "id": "b2e00fb2"
      },
      "source": [
        "else: # ph > 7.0\n",
        "  print(\"El suelo es alcalino.\")\n",
        "  print(\"Recomendamos el uso de sulfato.\")"
      ],
      "execution_count": null,
      "outputs": []
    }
  ]
}