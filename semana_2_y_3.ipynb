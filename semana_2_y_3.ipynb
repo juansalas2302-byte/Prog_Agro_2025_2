{
  "nbformat": 4,
  "nbformat_minor": 0,
  "metadata": {
    "colab": {
      "provenance": [],
      "authorship_tag": "ABX9TyPJd7GXo3jb4/YLOruvZBUV",
      "include_colab_link": true
    },
    "kernelspec": {
      "name": "python3",
      "display_name": "Python 3"
    },
    "language_info": {
      "name": "python"
    }
  },
  "cells": [
    {
      "cell_type": "markdown",
      "metadata": {
        "id": "view-in-github",
        "colab_type": "text"
      },
      "source": [
        "<a href=\"https://colab.research.google.com/github/juansalas2302-byte/Prog_Agro_2025_2/blob/main/semana_2_y_3.ipynb\" target=\"_parent\"><img src=\"https://colab.research.google.com/assets/colab-badge.svg\" alt=\"Open In Colab\"/></a>"
      ]
    },
    {
      "cell_type": "markdown",
      "source": [
        "# 1. Clasificador de pH del Suelo\n",
        "El pH del suelo es un factor crítico para la absorción de nutrientes por parte de las plantas. Desarrollarás un programa que recibe un valor de pH e informa al\n",
        "agricultor si el suelo es ácido, neutro o alcalino, ofreciendo una recomendación general.\n"
      ],
      "metadata": {
        "id": "yxxcHuodrpri"
      }
    },
    {
      "cell_type": "code",
      "execution_count": 2,
      "metadata": {
        "colab": {
          "base_uri": "https://localhost:8080/"
        },
        "id": "gnjPpkggqkIK",
        "outputId": "8435a35d-421e-4595-add5-7b4a710490bc"
      },
      "outputs": [
        {
          "output_type": "stream",
          "name": "stdout",
          "text": [
            "Este programa clasifica el pH del suelo.\n",
            "Ingrese el valor de pH medido: 7.5\n",
            "El suelo es alcalino.\n",
            "Recomendamos el uso de sulfato.\n"
          ]
        }
      ],
      "source": [
        "# Explicar al usuario que el programa clasifica el pH del suelo.\n",
        "print(\"Este programa clasifica el pH del suelo.\")\n",
        "\n",
        "# Pedir al usuario que ingrese el valor de pH medido (puede ser decimal).\n",
        "ph = float(input(\"Ingrese el valor de pH medido: \"))\n",
        "\n",
        "# Utilizar una estructura 'if' para clasificar el pH\n",
        "if ph < 7.0:\n",
        "  print(\"El suelo es ácido.\")\n",
        "  # Dentro del 'if', mostrar un mensaje indicando que el suelo es \"Ácido\" y recomendar el uso de cal agrícola.\n",
        "  print(\"Recomendamos el uso de cal agrícola.\")\n",
        "elif ph == 7.0:\n",
        "  print(\"El suelo es neutro.\")\n",
        "else: # ph > 7.0\n",
        "  print(\"El suelo es alcalino.\")\n",
        "  print(\"Recomendamos el uso de sulfato.\")"
      ]
    },
    {
      "cell_type": "markdown",
      "metadata": {
        "id": "8760407f"
      },
      "source": [
        "Aquí tienes la explicación línea por línea del código para clasificar el pH del suelo:"
      ]
    },
    {
      "cell_type": "code",
      "metadata": {
        "colab": {
          "base_uri": "https://localhost:8080/"
        },
        "collapsed": true,
        "id": "13e96ccb",
        "outputId": "8a357645-68f5-483c-e464-551b4a53222f"
      },
      "source": [
        "# Pedir al usuario que ingrese el valor de pH medido (puede ser decimal).\n",
        "ph = float(input(\"Ingrese el valor de pH medido: \"))"
      ],
      "execution_count": 3,
      "outputs": [
        {
          "output_type": "stream",
          "name": "stderr",
          "text": [
            "\n",
            "KeyboardInterrupt\n",
            "\n"
          ]
        }
      ]
    },
    {
      "cell_type": "code",
      "metadata": {
        "id": "4288dfa1"
      },
      "source": [
        "# Utilizar una estructura 'if' para clasificar el pH\n",
        "if ph < 7.0:\n",
        "  print(\"El suelo es ácido.\")\n",
        "  # Dentro del 'if', mostrar un mensaje indicando que el suelo es \"Ácido\" y recomendar el uso de cal agrícola.\n",
        "  print(\"Recomendamos el uso de cal agrícola.\")"
      ],
      "execution_count": null,
      "outputs": []
    },
    {
      "cell_type": "code",
      "metadata": {
        "id": "f0b54099"
      },
      "source": [
        "elif ph == 7.0:\n",
        "  print(\"El suelo es neutro.\")"
      ],
      "execution_count": null,
      "outputs": []
    },
    {
      "cell_type": "code",
      "metadata": {
        "id": "b2e00fb2"
      },
      "source": [
        "else: # ph > 7.0\n",
        "  print(\"El suelo es alcalino.\")\n",
        "  print(\"Recomendamos el uso de sulfato.\")"
      ],
      "execution_count": null,
      "outputs": []
    },
    {
      "cell_type": "markdown",
      "source": [
        "# 2. Simulación de Crecimiento de un Cultivo\n",
        "Un agrónomo quiere simular el crecimiento\n",
        "en altura de una planta durante 5 semanas. La planta crece a una tasa diferente cada semana. El programa debe solicitar la tasa de crecimiento de cada semana y mostrar la altura total al final."
      ],
      "metadata": {
        "id": "xW5RIYPvyQID"
      }
    },
    {
      "cell_type": "code",
      "source": [
        "# Inicializar una variable para la altura total de la planta en cero y una lista para los crecimientos semanales.\n",
        "altura = 0\n",
        "crecimientos_semanales = []\n",
        "\n",
        "# Mostrar un mensaje que indique que se simulará el crecimiento durante 5 semanas.\n",
        "print(\"Se simulará el crecimiento durante 5 semanas.\")\n",
        "\n",
        "# Utilizar un bucle 'for' para simular el crecimiento de la planta durante 5 semanas.\n",
        "for semana in range(5):\n",
        "  # Pedir al usuario que ingrese la tasa de crecimiento de la planta para la semana actual.\n",
        "  tasa_crecimiento = float(input(f\"Ingrese la tasa de crecimiento en cm para la semana {semana + 1}: \"))\n",
        "  # Almacenar la tasa de crecimiento semanal en la lista.\n",
        "  crecimientos_semanales.append(tasa_crecimiento)\n",
        "  # Actualizar la altura total de la planta sumando la tasa de crecimiento.\n",
        "  altura += tasa_crecimiento\n",
        "\n",
        "# Mostrar la altura total al final de la simulación.\n",
        "print(f\"La altura total de la planta al final de las 5 semanas es: {altura} cm\")\n",
        "\n",
        "# Opcional: Mostrar los crecimientos semanales\n",
        "print(f\"Crecimientos semanales: {crecimientos_semanales}\")"
      ],
      "metadata": {
        "colab": {
          "base_uri": "https://localhost:8080/"
        },
        "collapsed": true,
        "id": "Z97IGIvZyPlq",
        "outputId": "028523bf-a606-4104-82c9-cd4b5f285017"
      },
      "execution_count": null,
      "outputs": [
        {
          "output_type": "stream",
          "name": "stdout",
          "text": [
            "Se simulará el crecimiento durante 5 semanas.\n"
          ]
        }
      ]
    },
    {
      "cell_type": "markdown",
      "metadata": {
        "id": "34dfbf51"
      },
      "source": [
        "Aquí tienes la explicación línea por línea del código para la simulación de crecimiento de un cultivo:\n",
        "\n",
        "- `altura = 0`: Inicializa una variable llamada `altura` con el valor 0. Esta variable almacenará la altura total de la planta.\n",
        "- `crecimientos_semanales = []`: Inicializa una lista vacía llamada `crecimientos_semanales`. Aquí se guardará el crecimiento de la planta en cada semana.\n",
        "- `print(\"Se simulará el crecimiento durante 5 semanas.\")`: Muestra un mensaje al usuario indicando que el programa simulará el crecimiento durante 5 semanas.\n",
        "- `for semana in range(5):`: Inicia un bucle `for` que se ejecutará 5 veces (para las semanas 0 a 4). La variable `semana` tomará los valores 0, 1, 2, 3 y 4 en cada iteración.\n",
        "- `tasa_crecimiento = float(input(f\"Ingrese la tasa de crecimiento en cm para la semana {semana + 1}: \"))`: Dentro del bucle, pide al usuario que ingrese la tasa de crecimiento para la semana actual. Usa `input()` para obtener la entrada del usuario, `f\"...\"` para incluir el número de semana (sumando 1 a `semana` para que empiece en 1) y `float()` para convertir la entrada a un número decimal.\n",
        "- `crecimientos_semanales.append(tasa_crecimiento)`: Añade la tasa de crecimiento ingresada por el usuario a la lista `crecimientos_semanales`.\n",
        "- `altura += tasa_crecimiento`: Suma la tasa de crecimiento de la semana actual a la variable `altura`, actualizando la altura total.\n",
        "- `print(f\"La altura total de la planta al final de las 5 semanas es: {altura} cm\")`: Después del bucle, muestra la altura total final de la planta utilizando un mensaje formateado.\n",
        "- `print(f\"Crecimientos semanales: {crecimientos_semanales}\")`: Muestra la lista completa de los crecimientos registrados en cada semana."
      ]
    },
    {
      "cell_type": "markdown",
      "source": [
        "# Situación 1: Control de Calidad de un Lote de Leche Control de Calidad de un Lote de Leche\n",
        "Una planta procesadora debe verificar si un lote de leche cumple con el estándar de acidez (medido en °Dornic). Si la acidez está entre 15 y 18 °D, el lote es aceptado. Si es mayor, se destina a queso; si es menor, se rechaza.\n",
        "\n",
        "1. # Describir el propósito: Programa de control de calidad de leche por acidez.\n",
        "2. # Pedir al operario que ingrese el valor de acidez en grados Dornic.\n",
        "3. # Guardar el valor en una variable.\n",
        "4. # Escribir una condición 'if' que verifique si la acidez es mayor a 18.\n",
        "5. # Si se cumple, imprimir \"Lote destinado para producción de queso\".\n",
        "6. # Usar 'elif' para verificar si la acidez es menor a 15.\n",
        "7. # Si se cumple, imprimir \"Lote RECHAZADO por baja acidez\".\n",
        "8. # Usar 'else' para capturar el caso en que la acidez está en el rango aceptable.\n",
        "9. # Si no se cumplen las condiciones anteriores, imprimir \"Lote ACEPTADO para\n",
        "pasteurización\"."
      ],
      "metadata": {
        "id": "k3-k0rky6ACx"
      }
    },
    {
      "cell_type": "code",
      "metadata": {
        "id": "9645574e"
      },
      "source": [
        "# Describir el propósito: Programa de control de calidad de leche por acidez.\n",
        "print(\"Programa de control de calidad de leche por acidez.\")\n",
        "\n",
        "# Pedir al operario que ingrese el valor de acidez en grados Dornic y guardarlo en una variable.\n",
        "acidez = float(input(\"Ingrese el valor de acidez en °Dornic: \"))\n",
        "\n",
        "# Escribir una condición 'if' que verifique si la acidez es mayor a 18.\n",
        "if acidez > 18:\n",
        "  # Si se cumple, imprimir \"Lote destinado para producción de queso\".\n",
        "  print(\"Lote destinado para producción de queso\")\n",
        "# Usar 'elif' para verificar si la acidez es menor a 15.\n",
        "elif acidez < 15:\n",
        "  # Si se cumple, imprimir \"Lote RECHAZADO por baja acidez\".\n",
        "  print(\"Lote RECHAZADO por baja acidez\")\n",
        "# Usar 'else' para capturar el caso en que la acidez está en el rango aceptable (entre 15 y 18 inclusive).\n",
        "else:\n",
        "  # Si no se cumplen las condiciones anteriores, imprimir \"Lote ACEPTADO para pasteurización\".\n",
        "  print(\"Lote ACEPTADO para pasteurización\")"
      ],
      "execution_count": null,
      "outputs": []
    }
  ]
}